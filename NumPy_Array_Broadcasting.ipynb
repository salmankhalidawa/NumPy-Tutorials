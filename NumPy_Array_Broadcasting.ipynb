{
 "cells": [
  {
   "cell_type": "markdown",
   "id": "57062eeb",
   "metadata": {},
   "source": [
    "Broadcasting:\n",
    "\n",
    "Broadcasting in NumPy allows us to perform arithmatic operations on arrays of different shapes without reshaping it. It makes an easy way to do an element-wise operation in array and reducing and eliminating the need of loops."
   ]
  },
  {
   "cell_type": "code",
   "execution_count": 5,
   "id": "2cab1a69",
   "metadata": {},
   "outputs": [
    {
     "name": "stdout",
     "output_type": "stream",
     "text": [
      "[[11 12 13 14]\n",
      " [11 12 13 14]]\n",
      "[3 4 5 6 7]\n"
     ]
    }
   ],
   "source": [
    "import numpy as np\n",
    " \n",
    "arr = np.array([[1,2,3,4],[1,2,3,4]])\n",
    "scalar = 10\n",
    "x = arr + 10\n",
    "print(x)\n",
    "\n",
    "#Broadcasting with 1D\n",
    "arr = np.array([1,2,3,4,5])\n",
    "x = arr + 2\n",
    "print(x)"
   ]
  },
  {
   "cell_type": "markdown",
   "id": "4f2fc433",
   "metadata": {},
   "source": [
    "Broadcasting with conditional operator:"
   ]
  },
  {
   "cell_type": "code",
   "execution_count": 6,
   "id": "40324043",
   "metadata": {},
   "outputs": [
    {
     "name": "stdout",
     "output_type": "stream",
     "text": [
      "['Adult' 'Minor' 'Minor' 'Adult' 'Minor' 'Minor' 'Minor']\n"
     ]
    }
   ],
   "source": [
    "age = np.array([10,20,25,15,22,30,23])\n",
    "age_group = np.array(['Minor','Adult'])\n",
    "result = np.where(age>18,age_group[0],age_group[1])\n",
    "print(result)"
   ]
  },
  {
   "cell_type": "markdown",
   "id": "124e29e6",
   "metadata": {},
   "source": [
    "Using Broadcasting for Array Multiplication "
   ]
  },
  {
   "cell_type": "code",
   "execution_count": 7,
   "id": "20919e18",
   "metadata": {},
   "outputs": [
    {
     "name": "stdout",
     "output_type": "stream",
     "text": [
      "[[ 2  6 16]\n",
      " [ 8 15 24]]\n"
     ]
    }
   ],
   "source": [
    "a = np.array ([[1,2,4],[4,5,6]])\n",
    "b = np.array ([2,3,4])\n",
    "x = a * b\n",
    "print(x)"
   ]
  }
 ],
 "metadata": {
  "kernelspec": {
   "display_name": "venv",
   "language": "python",
   "name": "python3"
  },
  "language_info": {
   "codemirror_mode": {
    "name": "ipython",
    "version": 3
   },
   "file_extension": ".py",
   "mimetype": "text/x-python",
   "name": "python",
   "nbconvert_exporter": "python",
   "pygments_lexer": "ipython3",
   "version": "3.13.6"
  }
 },
 "nbformat": 4,
 "nbformat_minor": 5
}
