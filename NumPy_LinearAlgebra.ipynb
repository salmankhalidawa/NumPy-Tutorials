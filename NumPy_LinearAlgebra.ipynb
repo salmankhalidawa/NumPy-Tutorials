{
 "cells": [
  {
   "cell_type": "markdown",
   "id": "c52332bb",
   "metadata": {},
   "source": [
    "Linear Algebra in NumPy"
   ]
  },
  {
   "cell_type": "markdown",
   "id": "13a2c089",
   "metadata": {},
   "source": [
    "Representation of Vectors in NumPy:"
   ]
  },
  {
   "cell_type": "code",
   "execution_count": 2,
   "id": "edd0d543",
   "metadata": {},
   "outputs": [
    {
     "name": "stdout",
     "output_type": "stream",
     "text": [
      "[1 2 3]\n"
     ]
    }
   ],
   "source": [
    "#vectors \n",
    "import numpy as np\n",
    "from numpy import linalg \n",
    "v = np.array([1,2,3])\n",
    "print(v)"
   ]
  },
  {
   "cell_type": "markdown",
   "id": "9bcdc366",
   "metadata": {},
   "source": [
    "Operations with Vectors:"
   ]
  },
  {
   "cell_type": "code",
   "execution_count": null,
   "id": "96c70960",
   "metadata": {},
   "outputs": [
    {
     "name": "stdout",
     "output_type": "stream",
     "text": [
      "[2 4 6 8]\n",
      "70\n",
      "5.0\n"
     ]
    }
   ],
   "source": [
    "arr1 = np.array([1,2,3,4])\n",
    "arr2 = np.array([5,6,7,8])\n",
    "#addition\n",
    "print(arr1 + arr1)\n",
    "\n",
    "#dot product\n",
    "print(np.dot(arr1,arr2))\n",
    "\n",
    "# Norm\n",
    "print(np.around(np.linalg.norm(arr1)))\n",
    "\n",
    "# there are also many other operation like add, subtract, multiply that we done as same"
   ]
  },
  {
   "cell_type": "markdown",
   "id": "2868c032",
   "metadata": {},
   "source": [
    "Cosine Similarity between 2 text embeedings:"
   ]
  },
  {
   "cell_type": "code",
   "execution_count": null,
   "id": "2dd66711",
   "metadata": {},
   "outputs": [
    {
     "name": "stdout",
     "output_type": "stream",
     "text": [
      "0.9649505047327671\n"
     ]
    }
   ],
   "source": [
    "'''This is used in Document similarity, shows how similar the documents are. This is the \n",
    "application of ML'''\n",
    "#cosine_similarity = A . B / ||A||*||B||\n",
    "a = np.array([1,2,3,4,5])\n",
    "b = np.array([6,7,8,9,10])\n",
    "\n",
    "dot = np.dot(a,b)\n",
    "norm_a = np.linalg.norm(a)\n",
    "norm_b = np.linalg.norm(b)\n",
    "\n",
    "cosine_similarity = dot /(norm_a*norm_b)\n",
    "print(cosine_similarity)"
   ]
  },
  {
   "cell_type": "markdown",
   "id": "a1cb91bb",
   "metadata": {},
   "source": [
    "Creating Matrix in NumPy:"
   ]
  },
  {
   "cell_type": "code",
   "execution_count": null,
   "id": "815787a4",
   "metadata": {},
   "outputs": [
    {
     "name": "stdout",
     "output_type": "stream",
     "text": [
      "[[1 2 3]\n",
      " [5 6 7]]\n",
      "(2, 3)\n",
      "[[ 8 10 12]\n",
      " [15 17 19]]\n",
      "[[-6 -6 -6]\n",
      " [-5 -5 -5]]\n",
      "[[ 7 16 27]\n",
      " [50 66 84]]\n",
      "[[ 3  6  9]\n",
      " [15 18 21]]\n"
     ]
    }
   ],
   "source": [
    "#same as an array in numpy\n",
    "a = np.array([[1,2,3],\n",
    "              [5,6,7]])\n",
    "print(a)\n",
    "print(a.shape)\n",
    "\n",
    "b = np.array([[7,8,9],\n",
    "              [10,11,12]])\n",
    "#also this have many arithmatic operations of matrices. \n",
    "print(a+b)\n",
    "print(a-b)\n",
    "print(a*b)\n",
    "#scalar multiplication \n",
    "print(3*a)"
   ]
  },
  {
   "cell_type": "markdown",
   "id": "8592beb8",
   "metadata": {},
   "source": [
    "Matrix Multiplication:"
   ]
  },
  {
   "cell_type": "code",
   "execution_count": 38,
   "id": "ddfd0ea9",
   "metadata": {},
   "outputs": [
    {
     "name": "stdout",
     "output_type": "stream",
     "text": [
      "[[ 50  68]\n",
      " [146 200]]\n",
      "[[ 50  68]\n",
      " [146 200]]\n"
     ]
    }
   ],
   "source": [
    "a = np.array([[1,2,3],\n",
    "              [5,6,7]])\n",
    "b = np.array([[7,10],[8,11],[9,12]\n",
    "              ])\n",
    "#2 ways to do matrix multiplication:\n",
    "print(a @ b)\n",
    "print(np.matmul(a,b))\n"
   ]
  },
  {
   "cell_type": "markdown",
   "id": "2ed201d3",
   "metadata": {},
   "source": [
    "Matrix Transpose:"
   ]
  },
  {
   "cell_type": "code",
   "execution_count": 36,
   "id": "20b5d8cb",
   "metadata": {},
   "outputs": [
    {
     "name": "stdout",
     "output_type": "stream",
     "text": [
      "[[1 5]\n",
      " [2 6]\n",
      " [3 7]]\n",
      "[[1 5]\n",
      " [2 6]\n",
      " [3 7]]\n",
      "[[1 5]\n",
      " [2 6]\n",
      " [3 7]]\n"
     ]
    }
   ],
   "source": [
    "a = np.array([[1,2,3],\n",
    "              [5,6,7]])\n",
    "print(a.T)\n",
    "print(np.linalg.matrix_transpose(a))\n",
    "print(np.transpose(a))\n",
    "#the interchange of columns to rows and rows to columns"
   ]
  },
  {
   "cell_type": "markdown",
   "id": "decc1bac",
   "metadata": {},
   "source": [
    "Types of Matrices:"
   ]
  },
  {
   "cell_type": "code",
   "execution_count": null,
   "id": "6f90ab0a",
   "metadata": {},
   "outputs": [
    {
     "name": "stdout",
     "output_type": "stream",
     "text": [
      "[[1 2]\n",
      " [1 2]]\n",
      "[[0. 0. 0.]\n",
      " [0. 0. 0.]]\n",
      "[[1. 0. 0.]\n",
      " [0. 1. 0.]\n",
      " [0. 0. 1.]]\n",
      "[[1 0 0]\n",
      " [0 2 0]\n",
      " [0 0 3]]\n",
      "[[5 0 0]\n",
      " [0 5 0]\n",
      " [0 0 5]]\n",
      "[[1 2]\n",
      " [2 3]]\n",
      "[[1 2 3]\n",
      " [0 5 6]\n",
      " [0 0 9]]\n",
      "[[1 0 0]\n",
      " [4 5 0]\n",
      " [7 8 9]]\n"
     ]
    }
   ],
   "source": [
    "#square matrix\n",
    "print(np.array([[1,2],[1,2]]))\n",
    "#zero matrix\n",
    "z = np.zeros((2,3))\n",
    "print(z)\n",
    "#identity matrix\n",
    "i = np.eye(3)\n",
    "print(i)\n",
    "#diagnal matrix\n",
    "d = np.diag([1,2,3])\n",
    "print(d)\n",
    "#scalar matrix\n",
    "k = 5\n",
    "s = np.diag([k]*3)\n",
    "print(s)\n",
    "#symmetric matrix\n",
    "s = np.array([[1,2],[2,3]])\n",
    "print(s.T)\n",
    "#upper triangular matrix\n",
    "u = np.triu([[1,2,3],\n",
    "             [4,5,6],\n",
    "             [7,8,9]])\n",
    "print(u)\n",
    "#lower triangular matrix\n",
    "l = np.tril([[1,2,3],\n",
    "             [4,5,6],\n",
    "             [7,8,9]])\n",
    "print(l)\n"
   ]
  },
  {
   "cell_type": "markdown",
   "id": "eefe7e02",
   "metadata": {},
   "source": [
    "Products of vectors and matrices in NumPy:"
   ]
  },
  {
   "cell_type": "code",
   "execution_count": 6,
   "id": "f3da5744",
   "metadata": {},
   "outputs": [
    {
     "name": "stdout",
     "output_type": "stream",
     "text": [
      "32\n",
      "[[ 4  5  6]\n",
      " [ 8 10 12]\n",
      " [12 15 18]]\n",
      "[-3  6 -3]\n",
      "32\n",
      "Dot Product  :  (23-2j)\n"
     ]
    }
   ],
   "source": [
    "a = np.array([1,2,3])\n",
    "b = np.array([4,5,6])\n",
    "print(np.inner(a,b))  #1*2+2*5+3*6\n",
    "\n",
    "print(np.outer(a,b))  #where each element is the product of elements from both vectors\n",
    "\n",
    "print(np.cross(a,b))\n",
    "\n",
    "#vdot:\n",
    "# Simple vectors\n",
    "a = np.array([1, 2, 3])\n",
    "b = np.array([4, 5, 6])\n",
    "\n",
    "print(np.vdot(a, b))   # 32\n",
    "#product of complex numbers:\n",
    "# Python Program illustrating\n",
    "# numpy.vdot() method\n",
    "\n",
    "# 1D array\n",
    "vector_a = 2 + 3j\n",
    "vector_b = 4 + 5j\n",
    "\n",
    "product = np.vdot(vector_a, vector_b)\n",
    "print(\"Dot Product  : \", product)\n",
    "\n"
   ]
  },
  {
   "cell_type": "markdown",
   "id": "b0592577",
   "metadata": {},
   "source": [
    "Determinant of a matrix:"
   ]
  },
  {
   "cell_type": "code",
   "execution_count": null,
   "id": "f3615ed5",
   "metadata": {},
   "outputs": [
    {
     "name": "stdout",
     "output_type": "stream",
     "text": [
      "-2.0000000000000004\n",
      "-2.0000000000000004\n"
     ]
    }
   ],
   "source": [
    "a = np.array([[1,2],[3,4]])\n",
    "res = np.linalg.det(a)\n",
    "print(res)\n",
    "\n",
    "#use of np.linalg.slogdet\n",
    "sign , logdet = np.linalg.slogdet(a)\n",
    "result = sign * np.exp(logdet) \n",
    "''' First the determinant of the value. then the sign of the determinant. then the natural log of \n",
    "determinant and then res=sign * e^logdet = det(A)'''\n",
    "print(result)"
   ]
  },
  {
   "cell_type": "markdown",
   "id": "bc179a2f",
   "metadata": {},
   "source": [
    "Inverse of a Matrix:"
   ]
  },
  {
   "cell_type": "code",
   "execution_count": 4,
   "id": "b03275dd",
   "metadata": {},
   "outputs": [
    {
     "name": "stdout",
     "output_type": "stream",
     "text": [
      "[[ 0.17647059 -0.00326797 -0.02287582]\n",
      " [ 0.05882353 -0.13071895  0.08496732]\n",
      " [-0.11764706  0.1503268   0.05228758]]\n",
      "--------------------------------\n",
      "[[[-2.    1.  ]\n",
      "  [ 1.5  -0.5 ]]\n",
      "\n",
      " [[-1.25  0.75]\n",
      "  [ 0.75 -0.25]]]\n"
     ]
    }
   ],
   "source": [
    "A = np.array([[6, 1, 1],\n",
    "              [4, -2, 5],\n",
    "              [2, 8, 7]])\n",
    "print(np.linalg.inv(A))\n",
    "\"\"\"\n",
    "if det(A)!=0:\n",
    "    A_inv=adj(A)/det(A)\n",
    "else:\n",
    "    print(\"not Exist\")\n",
    "    \"\"\"\n",
    "print(\"--------------------------------\")\n",
    "import numpy as np\n",
    "A = np.array([[[1., 2.],[3., 4.]],\n",
    "              [[1, 3], [3, 5]]])\n",
    "print(np.linalg.inv(A))\n"
   ]
  },
  {
   "cell_type": "markdown",
   "id": "c3b391dc",
   "metadata": {},
   "source": [
    "Eigenvalues or Eigenvectors:"
   ]
  },
  {
   "cell_type": "code",
   "execution_count": 7,
   "id": "dfdd2be1",
   "metadata": {},
   "outputs": [
    {
     "name": "stdout",
     "output_type": "stream",
     "text": [
      "Eigenvalues:\n",
      "[3. 2.]\n",
      "\n",
      "Eigenvectors (columns):\n",
      "[[0.89442719 0.70710678]\n",
      " [0.4472136  0.70710678]]\n"
     ]
    }
   ],
   "source": [
    "import numpy as np\n",
    "\n",
    "A = np.array([[4, -2],\n",
    "              [1,  1]])\n",
    "\n",
    "# Eigenvalues and Eigenvectors\n",
    "eigenvalues, eigenvectors = np.linalg.eig(A)\n",
    "\n",
    "print(\"Eigenvalues:\")\n",
    "print(eigenvalues)\n",
    "\n",
    "print(\"\\nEigenvectors (columns):\")\n",
    "print(eigenvectors)\n"
   ]
  }
 ],
 "metadata": {
  "kernelspec": {
   "display_name": "venv",
   "language": "python",
   "name": "python3"
  },
  "language_info": {
   "codemirror_mode": {
    "name": "ipython",
    "version": 3
   },
   "file_extension": ".py",
   "mimetype": "text/x-python",
   "name": "python",
   "nbconvert_exporter": "python",
   "pygments_lexer": "ipython3",
   "version": "3.13.6"
  }
 },
 "nbformat": 4,
 "nbformat_minor": 5
}
