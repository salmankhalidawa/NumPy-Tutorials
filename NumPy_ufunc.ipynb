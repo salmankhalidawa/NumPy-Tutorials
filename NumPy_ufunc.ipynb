{
 "cells": [
  {
   "cell_type": "markdown",
   "id": "e3b1adc4",
   "metadata": {},
   "source": [
    "What is ufunc?\n",
    "\n",
    "ufunc stands for \"Universal Functions\" and they are NumPy functions that operate on ndarray\n",
    "\n"
   ]
  },
  {
   "cell_type": "markdown",
   "id": "347f75a3",
   "metadata": {},
   "source": [
    "Why use ufunc?\n",
    "\n",
    ". They are used to immplement vectorization which is a way faster than iterating over the elements\n",
    ". They also provide provide broadcasting and additional methods like reduce and accumulate etc. and they \n",
    "  are very helpful for computation\n"
   ]
  },
  {
   "cell_type": "markdown",
   "id": "56f7a62e",
   "metadata": {},
   "source": [
    "Arguments:\n",
    "\n",
    "ufuncs also take additional arguments, like:\n",
    "(where) boolean array or condition defining where the operations should take place.\n",
    "(dtype) defining the return type of elements.\n",
    "(out) output array where the return value should be copied.\n",
    "\n"
   ]
  },
  {
   "cell_type": "markdown",
   "id": "34a05bcb",
   "metadata": {},
   "source": [
    "What is Vectorization?\n",
    "\n",
    "Vectorization means performing an operation on the entire array at once, instead of looping through the elements one by one"
   ]
  },
  {
   "cell_type": "markdown",
   "id": "ada43093",
   "metadata": {},
   "source": [
    "Without ufunc the code runs as:"
   ]
  },
  {
   "cell_type": "code",
   "execution_count": null,
   "id": "4a4127f8",
   "metadata": {},
   "outputs": [
    {
     "name": "stdout",
     "output_type": "stream",
     "text": [
      "[2, 4, 6, 8, 10]\n"
     ]
    }
   ],
   "source": [
    "x = [1,2,3,4,5]\n",
    "y = [1,2,3,4,5]\n",
    "z = []\n",
    "for i , j in zip(x,y):\n",
    "    z.append(i+j)\n",
    "print(z)\n"
   ]
  },
  {
   "cell_type": "markdown",
   "id": "a7c87057",
   "metadata": {},
   "source": [
    "With ufunc, we can simply add those using np"
   ]
  },
  {
   "cell_type": "code",
   "execution_count": 2,
   "id": "da886ac4",
   "metadata": {},
   "outputs": [
    {
     "name": "stdout",
     "output_type": "stream",
     "text": [
      "[ 2  4  6  8 10]\n"
     ]
    }
   ],
   "source": [
    "import numpy as np\n",
    "\n",
    "x = [1,2,3,4,5]\n",
    "y = [1,2,3,4,5]\n",
    "z = np.add(x,y)\n",
    "print(z)"
   ]
  },
  {
   "cell_type": "markdown",
   "id": "f5f98c58",
   "metadata": {},
   "source": [
    "Create your own ufunc"
   ]
  },
  {
   "cell_type": "code",
   "execution_count": 4,
   "id": "b070aa9e",
   "metadata": {},
   "outputs": [
    {
     "name": "stdout",
     "output_type": "stream",
     "text": [
      "[2 4 6 8]\n",
      "[ 4  9 16 25]\n"
     ]
    }
   ],
   "source": [
    "def myadd(x,y):\n",
    "    return x+y\n",
    "# frompyfunc can takes 3 arguments:\n",
    "'''\n",
    "1. function\n",
    "2. Number of inputs (arrays)\n",
    "3. Number of output\n",
    "'''\n",
    "myadd = np.frompyfunc(myadd,2,1)\n",
    "print(myadd([1,2,3,4],[1,2,3,4]))\n",
    "\n",
    "\n",
    "def custom_func(x):\n",
    "    return x**2 + 2*x + 1\n",
    "\n",
    "a1 = np.array([1, 2, 3, 4])\n",
    "result = custom_func(a1)\n",
    "print(result)"
   ]
  },
  {
   "cell_type": "markdown",
   "id": "9e6f7d4a",
   "metadata": {},
   "source": [
    "Checking if a function is ufunc or not:"
   ]
  },
  {
   "cell_type": "code",
   "execution_count": 6,
   "id": "871a2dc7",
   "metadata": {},
   "outputs": [
    {
     "name": "stdout",
     "output_type": "stream",
     "text": [
      "<class 'numpy.ufunc'>\n"
     ]
    }
   ],
   "source": [
    "print(type(np.add))"
   ]
  },
  {
   "cell_type": "code",
   "execution_count": 7,
   "id": "fcf59782",
   "metadata": {},
   "outputs": [
    {
     "name": "stdout",
     "output_type": "stream",
     "text": [
      "<class 'numpy._ArrayFunctionDispatcher'>\n"
     ]
    }
   ],
   "source": [
    "print(type(np.concatenate))"
   ]
  },
  {
   "cell_type": "code",
   "execution_count": 9,
   "id": "7b776cf3",
   "metadata": {},
   "outputs": [
    {
     "name": "stdout",
     "output_type": "stream",
     "text": [
      "Its a universal function\n"
     ]
    }
   ],
   "source": [
    "if type(np.add) == np.ufunc:\n",
    "    print(\"Its a universal function\")\n",
    "else:\n",
    "    print(\"Its not a universal function \")"
   ]
  },
  {
   "cell_type": "markdown",
   "id": "a65c5fd6",
   "metadata": {},
   "source": [
    "Addition,Subtraction, Multiplication:"
   ]
  },
  {
   "cell_type": "code",
   "execution_count": 12,
   "id": "61aa4e1b",
   "metadata": {},
   "outputs": [
    {
     "name": "stdout",
     "output_type": "stream",
     "text": [
      "[ 2  4  6  8 10]\n",
      "[0 0 0 0 0]\n",
      "[ 1  4  9 16 25]\n"
     ]
    }
   ],
   "source": [
    "arr1 = np.array([1,2,3,4,5])\n",
    "arr2 = np.array([1,2,3,4,5])\n",
    "\n",
    "x = np.add(arr1,arr2)\n",
    "print(x)\n",
    "\n",
    "x = np.subtract(arr1, arr2)\n",
    "print(x)\n",
    "\n",
    "x = np.multiply(arr1,arr2)\n",
    "print(x)"
   ]
  },
  {
   "cell_type": "markdown",
   "id": "cfef698d",
   "metadata": {},
   "source": [
    "Division, Power, Multiply:"
   ]
  },
  {
   "cell_type": "code",
   "execution_count": null,
   "id": "fd9feabd",
   "metadata": {},
   "outputs": [
    {
     "name": "stdout",
     "output_type": "stream",
     "text": [
      "[ 3.33333333  4.          5.          5.         25.          1.81818182]\n",
      "[         1000       3200000     729000000 6553600000000          2500\n",
      "             0]\n",
      "[ 1  0  0  0  0 27]\n"
     ]
    }
   ],
   "source": [
    "arr1 = np.array([10, 20, 30, 40, 50, 60])\n",
    "arr2 = np.array([3, 5, 6, 8, 2, 33])\n",
    "\n",
    "x = np.divide(arr1, arr2)\n",
    "print(x)\n",
    "\n",
    "x = np.power(arr1,arr2)\n",
    "print(x)\n",
    "\n",
    "x = np.mod(arr1,arr2)  #we also use remainder()\n",
    "print(x)\n"
   ]
  },
  {
   "cell_type": "markdown",
   "id": "3b54c16e",
   "metadata": {},
   "source": [
    "Quotient and Mod, Absolute values"
   ]
  },
  {
   "cell_type": "code",
   "execution_count": 17,
   "id": "8ca84577",
   "metadata": {},
   "outputs": [
    {
     "name": "stdout",
     "output_type": "stream",
     "text": [
      "(array([ 3,  4,  5,  5, 25,  1]), array([ 1,  0,  0,  0,  0, 27]))\n",
      "[1 2 3 4 0 1]\n"
     ]
    }
   ],
   "source": [
    "'''The Divmod() function returns both quotient and remainder.It returns 2 arrays, \n",
    "the first array contains the quotient and the other is mod\n",
    "'''\n",
    "arr1 = np.array([10, 20, 30, 40, 50, 60])\n",
    "arr2 = np.array([3, 5, 6, 8, 2, 33])\n",
    "\n",
    "x = np.divmod(arr1, arr2)\n",
    "print(x)\n",
    "\n",
    "arr1 = np.array([-1,-2,-3,-4,0,1])\n",
    "x = np.absolute(arr1)\n",
    "print(x)\n"
   ]
  },
  {
   "cell_type": "markdown",
   "id": "b2f865e0",
   "metadata": {},
   "source": [
    "Rounding decimals (truncation,fix,rounding,floor,ceil)"
   ]
  },
  {
   "cell_type": "code",
   "execution_count": 25,
   "id": "d45f8a77",
   "metadata": {},
   "outputs": [
    {
     "name": "stdout",
     "output_type": "stream",
     "text": [
      "[-3. 34.]\n",
      "[-3. 34.]\n",
      "3.17\n",
      "[-4. 34.]\n",
      "[-3. 35.]\n"
     ]
    }
   ],
   "source": [
    "arr = np.trunc([-3.3333,34.123])\n",
    "print(arr)\n",
    "\n",
    "arr = np.fix([-3.3333,34.123])\n",
    "print(arr)\n",
    "\n",
    "arr = np.around(3.1666, 2)\n",
    "print(arr)\n",
    "\n",
    "arr = np.floor([-3.3333,34.123])\n",
    "print(arr)\n",
    "\n",
    "arr = np.ceil([-3.3333,34.123])\n",
    "print(arr)"
   ]
  },
  {
   "cell_type": "markdown",
   "id": "ea297149",
   "metadata": {},
   "source": [
    "NumPy Logs:"
   ]
  },
  {
   "cell_type": "code",
   "execution_count": null,
   "id": "0e7dbc2a",
   "metadata": {},
   "outputs": [
    {
     "name": "stdout",
     "output_type": "stream",
     "text": [
      "[0.         1.         1.5849625  2.         2.32192809 2.5849625\n",
      " 2.80735492 3.         3.169925  ]\n",
      "[0.         0.30103    0.47712125 0.60205999 0.69897    0.77815125\n",
      " 0.84509804 0.90308999 0.95424251]\n",
      "[0.         0.69314718 1.09861229 1.38629436 1.60943791 1.79175947\n",
      " 1.94591015 2.07944154 2.19722458]\n",
      "1.7005483074552052\n"
     ]
    }
   ],
   "source": [
    "#log at base 2:\n",
    "arr = np.arange(1,10)\n",
    "print(np.log2(arr))\n",
    "\n",
    "# log at base 10\n",
    "print(np.log10(arr))\n",
    "\n",
    "# Natural log and log at base e\n",
    "print(np.log(arr))\n",
    "\n",
    "\n",
    "'''Numpy has not any function for log at any base. So, we can from maths, import log'''\n",
    "from math import log\n",
    "\n",
    "nplog = np.frompyfunc(log, 2, 1)\n",
    "print(nplog(100, 15))"
   ]
  },
  {
   "cell_type": "markdown",
   "id": "8f6253ca",
   "metadata": {},
   "source": [
    "NumPy Summations:"
   ]
  },
  {
   "cell_type": "code",
   "execution_count": 34,
   "id": "c0db8a49",
   "metadata": {},
   "outputs": [
    {
     "name": "stdout",
     "output_type": "stream",
     "text": [
      "[ 2  4  6  8 10]\n",
      "30\n",
      "[15 15]\n",
      "[ 1  3  6 10 15]\n"
     ]
    }
   ],
   "source": [
    "'''Add function accepts only 2 arguments and returns the sum over the elements of the array \n",
    "but the sum function accepts n arguments and returns the sum of all the elements of the array\n",
    "'''\n",
    "arr1 = np.array([1,2,3,4,5])\n",
    "arr2 = np.array([1,2,3,4,5])\n",
    "x = np.add(arr1,arr2)\n",
    "print(x)\n",
    "\n",
    "x = np.sum([arr1,arr2])\n",
    "print(x)\n",
    "\n",
    "#sum over axis 1,means the sum of arr1 and sum of arr2\n",
    "x = np.sum([arr1,arr2],axis=1)\n",
    "print(x)\n",
    "# Cumulative sum means [1,2,3] so [1,1+2,1+2+3]\n",
    "x =np.cumsum(arr1)\n",
    "print(x)"
   ]
  },
  {
   "cell_type": "markdown",
   "id": "1096e8f4",
   "metadata": {},
   "source": [
    "NumPy Products:"
   ]
  },
  {
   "cell_type": "code",
   "execution_count": null,
   "id": "08e362cc",
   "metadata": {},
   "outputs": [
    {
     "name": "stdout",
     "output_type": "stream",
     "text": [
      "120\n",
      "14400\n",
      "[120 120]\n",
      "[  1   2   6  24 120]\n"
     ]
    }
   ],
   "source": [
    "#products\n",
    "arr1 = np.array([1,2,3,4,5])\n",
    "arr2 = np.array([1,2,3,4,5])\n",
    "\n",
    "x = np.prod(arr1)\n",
    "print(x)\n",
    "\n",
    "x = np.prod([arr1,arr2])\n",
    "print(x)\n",
    "\n",
    "x = np.prod([arr1,arr2],axis=1)\n",
    "print(x)\n",
    "\n",
    "x = np.cumprod(arr1)\n",
    "print(x)\n",
    "\n"
   ]
  },
  {
   "cell_type": "markdown",
   "id": "57c28863",
   "metadata": {},
   "source": [
    "NumPy Differences"
   ]
  },
  {
   "cell_type": "code",
   "execution_count": null,
   "id": "04bf47b1",
   "metadata": {},
   "outputs": [
    {
     "name": "stdout",
     "output_type": "stream",
     "text": [
      "[  5  10 -20]\n",
      "[  5 -30]\n"
     ]
    }
   ],
   "source": [
    "'''E.g. for [1, 2, 3, 4], the discrete difference would be [2-1, 3-2, 4-3] = [1, 1, 1]\n",
    "'''\n",
    "arr = np.array([10, 15, 25, 5])\n",
    "newarr = np.diff(arr)\n",
    "print(newarr)\n",
    "\n",
    "newarr = np.diff(arr,n=2)\n",
    "print(newarr)"
   ]
  },
  {
   "cell_type": "markdown",
   "id": "ff652612",
   "metadata": {},
   "source": [
    "NumPy LCM:"
   ]
  },
  {
   "cell_type": "code",
   "execution_count": null,
   "id": "35cf0840",
   "metadata": {},
   "outputs": [
    {
     "name": "stdout",
     "output_type": "stream",
     "text": [
      "12\n",
      "18\n",
      "2520\n"
     ]
    }
   ],
   "source": [
    "num1 = 4\n",
    "num2 = 6\n",
    "x = np.lcm(num1,num2)\n",
    "print(x)\n",
    "\n",
    "# LCM over the arrays:\n",
    "arr = np.array([3,6,9])\n",
    "x = np.lcm.reduce(arr)\n",
    "print(x)\n",
    "\n",
    "arr = np.arange(1,10)\n",
    "x = np.lcm.reduce(arr)\n",
    "print(x)\n"
   ]
  },
  {
   "cell_type": "markdown",
   "id": "f34b03fa",
   "metadata": {},
   "source": [
    "NumPy GCD:"
   ]
  },
  {
   "cell_type": "code",
   "execution_count": null,
   "id": "ca4c2b46",
   "metadata": {},
   "outputs": [
    {
     "name": "stdout",
     "output_type": "stream",
     "text": [
      "4\n",
      "1\n"
     ]
    }
   ],
   "source": [
    "num1 = 12\n",
    "num2 = 16\n",
    "arr = np.gcd(num1,num2)\n",
    "print(arr)\n",
    "\n",
    "arr = np.array([1,2,3,4,5])\n",
    "x = np.gcd.reduce(arr)\n",
    "print(x)\n"
   ]
  },
  {
   "cell_type": "markdown",
   "id": "8b3b12ae",
   "metadata": {},
   "source": [
    "NumPy Trignometric Functions:"
   ]
  },
  {
   "cell_type": "code",
   "execution_count": null,
   "id": "ef6c7ce3",
   "metadata": {},
   "outputs": [
    {
     "name": "stdout",
     "output_type": "stream",
     "text": [
      "1.0\n",
      "[1.         0.8660254  0.70710678 0.58778525]\n",
      "[0.78539816 1.04719755 1.57079633 2.0943951 ]\n",
      "[ 90. 180. 270. 360.]\n",
      "1.5707963267948966\n",
      "[ 1.57079633 -1.57079633  0.10016742]\n"
     ]
    }
   ],
   "source": [
    "x = np.sin(np.pi/2)\n",
    "print(x)\n",
    "\n",
    "#find the sin() of all elements in the arrays\n",
    "x = np.array([np.pi/2,np.pi/3,np.pi/4,np.pi/5])\n",
    "arr = np.sin(x)\n",
    "print(arr)\n",
    "\n",
    "#convert all values of degree to radian\n",
    "x = np.array([45,60,90,120])\n",
    "arr = np.deg2rad(x)\n",
    "print(arr)\n",
    "\n",
    "#convert all values of radian to degree\n",
    "arr = np.array([np.pi/2, np.pi, 1.5*np.pi, 2*np.pi])\n",
    "x = np.rad2deg(arr)\n",
    "print(x)\n",
    "\n",
    "#calculating the inverse\n",
    "x = np.arcsin(1.0)\n",
    "print(x)\n",
    "\n",
    "arr = np.array([1,-1,0.1])\n",
    "x = np.arcsin(arr)\n",
    "print(x)"
   ]
  },
  {
   "cell_type": "markdown",
   "id": "5157c4f6",
   "metadata": {},
   "source": [
    "Hypotenues:"
   ]
  },
  {
   "cell_type": "code",
   "execution_count": 12,
   "id": "25de900e",
   "metadata": {},
   "outputs": [
    {
     "data": {
      "text/plain": [
       "np.float64(5.0)"
      ]
     },
     "execution_count": 12,
     "metadata": {},
     "output_type": "execute_result"
    }
   ],
   "source": [
    "#hypotenues also calculated in numpy using pythagoras theorem,as it takes perpendiculae and base.\n",
    "base = 3\n",
    "perp = 4\n",
    "x = np.hypot(base, perp)\n",
    "x"
   ]
  },
  {
   "cell_type": "markdown",
   "id": "2dd40ead",
   "metadata": {},
   "source": [
    "NumPy Hyperbolic Functions:"
   ]
  },
  {
   "cell_type": "code",
   "execution_count": 14,
   "id": "57f1167e",
   "metadata": {},
   "outputs": [
    {
     "name": "stdout",
     "output_type": "stream",
     "text": [
      "2.3012989023072947\n",
      "[2.50917848 1.60028686 1.32460909 1.20397209]\n",
      "0.881373587019543\n",
      "[0.10033535 0.20273255 0.54930614]\n"
     ]
    }
   ],
   "source": [
    "x = np.sinh(np.pi/2)\n",
    "print(x)\n",
    "\n",
    "arr = np.array([np.pi/2, np.pi/3, np.pi/4, np.pi/5])\n",
    "x = np.cosh(arr)\n",
    "print(x)\n",
    "\n",
    "x = np.arcsinh(1.0)\n",
    "print(x)\n",
    "\n",
    "arr = np.array([0.1, 0.2, 0.5])\n",
    "x = np.arctanh(arr)\n",
    "print(x)"
   ]
  },
  {
   "cell_type": "markdown",
   "id": "b50cadaf",
   "metadata": {},
   "source": [
    "NumPy Set Operations:"
   ]
  },
  {
   "cell_type": "code",
   "execution_count": 20,
   "id": "389f5db7",
   "metadata": {},
   "outputs": [
    {
     "name": "stdout",
     "output_type": "stream",
     "text": [
      "[1 1 2 2 4 4 5 6 7 8 8]\n",
      "[1 2 3 4 5 6 8]\n",
      "[2 4 5]\n",
      "[1 5 5]\n",
      "[1 3 6 8]\n"
     ]
    }
   ],
   "source": [
    "#Convert array of repeated elements in a set\n",
    "x = np.array([1,1,2,2,4,4,5,6,7,8,8])\n",
    "arr = np.unique(x)\n",
    "print(x)\n",
    "\n",
    "x = np.array([1,2,4,5,5])\n",
    "x1 = np.array([2,3,4,6,8])\n",
    "arr = np.union1d(x,x1)\n",
    "print(arr)\n",
    "\n",
    "arr = np.intersect1d(x,x1,assume_unique=True)\n",
    "print(arr)\n",
    "\n",
    "arr = np.setdiff1d(x,x1,assume_unique=True)\n",
    "print(arr)\n",
    "\n",
    "arr = np.setxor1d(x,x1,assume_unique=True)\n",
    "print(arr)\n"
   ]
  },
  {
   "cell_type": "markdown",
   "id": "6e47c7fa",
   "metadata": {},
   "source": [
    "Square root:"
   ]
  },
  {
   "cell_type": "code",
   "execution_count": null,
   "id": "3aad2f01",
   "metadata": {},
   "outputs": [
    {
     "name": "stdout",
     "output_type": "stream",
     "text": [
      "8.0\n"
     ]
    }
   ],
   "source": [
    "x = np.sqrt(64)\n",
    "print(x)\n",
    "#same for array "
   ]
  },
  {
   "cell_type": "markdown",
   "id": "1fb84e81",
   "metadata": {},
   "source": [
    "Exponential Values:"
   ]
  },
  {
   "cell_type": "code",
   "execution_count": null,
   "id": "eefea5ff",
   "metadata": {},
   "outputs": [
    {
     "name": "stdout",
     "output_type": "stream",
     "text": [
      "Exponent of array elements: [ 1.          2.71828183  7.3890561  20.08553692]\n"
     ]
    }
   ],
   "source": [
    "a = np.array([0, 1, 2, 3]) #e^0,e^1,e^2\n",
    "print (\"Exponent of array elements:\", np.exp(a))"
   ]
  }
 ],
 "metadata": {
  "kernelspec": {
   "display_name": "venv",
   "language": "python",
   "name": "python3"
  },
  "language_info": {
   "codemirror_mode": {
    "name": "ipython",
    "version": 3
   },
   "file_extension": ".py",
   "mimetype": "text/x-python",
   "name": "python",
   "nbconvert_exporter": "python",
   "pygments_lexer": "ipython3",
   "version": "3.13.6"
  }
 },
 "nbformat": 4,
 "nbformat_minor": 5
}
