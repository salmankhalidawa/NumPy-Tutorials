{
 "cells": [
  {
   "cell_type": "markdown",
   "id": "b4efd6c0",
   "metadata": {},
   "source": [
    "NumPy (Numerical Python)"
   ]
  },
  {
   "cell_type": "code",
   "execution_count": 3,
   "id": "bffb1ea5",
   "metadata": {},
   "outputs": [
    {
     "name": "stdout",
     "output_type": "stream",
     "text": [
      "[1 2 3 4 5]\n",
      "<class 'numpy.ndarray'>\n",
      "[1 2 3 4 5]\n",
      "<class 'numpy.ndarray'>\n"
     ]
    }
   ],
   "source": [
    "import numpy as np\n",
    "import math \n",
    "\n",
    "# use a list to create an array \n",
    "arr = np.array([1,2,3,4,5])\n",
    "print (arr)\n",
    "print (type(arr))\n",
    "\n",
    "# Use a tuples to create an array \n",
    "arr = np.array((1,2,3,4,5))\n",
    "print(arr)\n",
    "print(type(arr))"
   ]
  },
  {
   "cell_type": "markdown",
   "id": "22f39507",
   "metadata": {},
   "source": [
    "N-Dimensional Array "
   ]
  },
  {
   "cell_type": "code",
   "execution_count": 48,
   "id": "5166e53f",
   "metadata": {},
   "outputs": [
    {
     "name": "stdout",
     "output_type": "stream",
     "text": [
      "0\n",
      "0\n",
      "---------\n",
      "[1 2 4 6 4]\n",
      "---------\n",
      "[[1 2 4]\n",
      " [5 7 8]]\n",
      "---------\n",
      "[[[1 2 3]\n",
      "  [1 2 3]\n",
      "  [2 3 4]]]\n",
      "3\n",
      "---------\n",
      "[[[[[6 7 8 9]\n",
      "    [1 2 3 4]]]]]\n"
     ]
    }
   ],
   "source": [
    "# 0-D array \n",
    "arr0 = np.array (42)\n",
    "print(0)\n",
    "# to print the dimensions of this array, we use ndim built-in function \n",
    "print(arr0.ndim)\n",
    "\n",
    "print(\"---------\")\n",
    "\n",
    "# 1-D array\n",
    "arr1 = np.array ([1,2,4,6,4])\n",
    "print(arr1)\n",
    "\n",
    "print(\"---------\")\n",
    "\n",
    "#2-D array \n",
    "arr2 = np.array([[1,2,4],[5,7,8]])\n",
    "print(arr2)\n",
    "\n",
    "print(\"---------\")\n",
    "\n",
    "# 3-D array \n",
    "arr3 = np.array([[[1,2,3],[1,2,3],[2,3,4]]])\n",
    "print(arr3)\n",
    "print(arr3.ndim)\n",
    "\n",
    "print(\"---------\")\n",
    "\n",
    "# for higher dimensions \n",
    "arr4 = np.array([[6,7,8,9],[1,2,3,4]],ndmin=5)\n",
    "print(arr4)\n",
    "\n",
    "\n",
    "\n"
   ]
  },
  {
   "cell_type": "markdown",
   "id": "f11979e6",
   "metadata": {},
   "source": [
    "Indexing in NumPy Array "
   ]
  },
  {
   "cell_type": "code",
   "execution_count": null,
   "id": "9b8623c1",
   "metadata": {},
   "outputs": [
    {
     "name": "stdout",
     "output_type": "stream",
     "text": [
      "1\n",
      "5\n",
      "8\n",
      "1st row and 4th column:  4\n",
      "3\n",
      "6\n",
      "11\n",
      "45\n",
      "Last element from 2nd dim:  6\n"
     ]
    }
   ],
   "source": [
    "# Indexing returns the element that are in position  (1D Array)\n",
    "arr = np.array([1,2,3,4,5])\n",
    "print(arr[0])\n",
    "\n",
    "# get 2nd and 3rd element of an array and add them\n",
    "\n",
    "c = arr[1] + arr [2]\n",
    "print(c)\n",
    "\n",
    "# Accessing 2D array\n",
    "arr2 = np.array([[1,2,4]\n",
    "                 ,[5,7,8]])\n",
    "print(arr2[1,2])   #[1,2] 1 is row no. and 2 is column number. Starts from 0. so it returns 8\n",
    "# more on 2D accessing\n",
    "arr = np.array([[1,2,3,4,5],\n",
    "                [6,7,8,9,10]])\n",
    "print(\"1st row and 4th column: \",arr[0,3])\n",
    "\n",
    "# Accessing 3D array \n",
    "# so explanation of this as, [0,1,2], 0 shows the dept meanig the matrix, 1 shows the row of that matrix \n",
    "#  and 2 shows the column of that matrix\n",
    "arr = np.array([[[1, 2, 3],\n",
    "                [4, 5, 6]],\n",
    "\n",
    "                [[7, 8, 9],\n",
    "                [10, 11, 12]],\n",
    "\n",
    "                [[34,23,45],\n",
    "                 [23,45,23]]\n",
    "                ])\n",
    "print(arr.ndim)\n",
    "print(arr[0,1,2])\n",
    "print(arr[1,1,1])\n",
    "print(arr[2,1,1])\n",
    "\n",
    "# Negative indexing \n",
    "arr45 = np.array([[1,2,3,4,5],\n",
    "                [6,7,8,9,10]])\n",
    "print('Last element from 2nd dim: ', arr45[1, -1])"
   ]
  },
  {
   "cell_type": "markdown",
   "id": "75af66e2",
   "metadata": {},
   "source": [
    "Slicing in NumPy"
   ]
  },
  {
   "cell_type": "code",
   "execution_count": null,
   "id": "17d87a1c",
   "metadata": {},
   "outputs": [
    {
     "name": "stdout",
     "output_type": "stream",
     "text": [
      "[1 2 3 4 5]\n",
      "[1 2 3 4 5]\n",
      "[3 4 5]\n",
      "[1 2 3 4]\n",
      "[2 3 4]\n",
      "[1 3 5 7 9]\n",
      "[ 6  7  8  9 10]\n",
      "[3 8]\n",
      "[[ 2  3  4  5]\n",
      " [ 7  8  9 10]]\n"
     ]
    }
   ],
   "source": [
    "arr = np.array([1,2,3,4,5])\n",
    "# [start : Stop : Step ]\n",
    "# 1D array \n",
    "print(arr[0:6])\n",
    "print(arr[:])\n",
    "print(arr[2:])\n",
    "print(arr[:4])\n",
    "\n",
    "# Negative Slicing\n",
    "print(arr[-4:-1])\n",
    "\n",
    "# STEP \n",
    "arr = np.array([1,2,3,4,5,6,7,8,9])\n",
    "print(arr[::2])\n",
    "\n",
    "# 2D array \n",
    "#  [dept,slicing:slicing]\n",
    "arr2 = np.array([[1,2,3,4,5],\n",
    "                 [6,7,8,9,10]])\n",
    "print(arr2[1,0:5])\n",
    "print(arr2[0:2,2])\n",
    "print(arr2[0:2,1:5]) #this will return a 2D array"
   ]
  },
  {
   "cell_type": "markdown",
   "id": "5e08b0f8",
   "metadata": {},
   "source": [
    "Data types in Python "
   ]
  },
  {
   "cell_type": "code",
   "execution_count": 116,
   "id": "45d893cc",
   "metadata": {},
   "outputs": [
    {
     "name": "stdout",
     "output_type": "stream",
     "text": [
      "int64\n",
      "float64\n",
      "<U1\n",
      "[b'1' b'2' b'3' b'45' b'5']\n",
      "|S2\n",
      "[ 1  2  3 45  5]\n",
      "int32\n",
      "[1 2 3 5]\n",
      "[1. 2. 3. 4. 5. 6.]\n",
      "[ True False  True]\n"
     ]
    }
   ],
   "source": [
    "# We have many data types in Python\n",
    "arr = np.array([1,2,3,4,5])\n",
    "print(arr.dtype) #int64\n",
    "\n",
    "arr = np.array([1.2,3.5,1.0,23.5])\n",
    "print(arr.dtype) #float64\n",
    "\n",
    "arr = np.array(['a','e','i','o','u'])\n",
    "print(arr.dtype) #<U1 (unicode string) with length 1\n",
    "\n",
    "# Create an array with a defined datatype\n",
    "arrof = np.array([1,2,3,45,5],dtype='S')\n",
    "print(arrof)\n",
    "print(arrof.dtype)\n",
    "\n",
    "arrofi= np.array([1,2,3,45,5],dtype='i4')\n",
    "print(arrofi)\n",
    "print(arrofi.dtype) #int32 (4 means of 4 bytes. meaning 32 bits)\n",
    "\n",
    "# if we want to cast a datatype character to integers, it will raise an error\n",
    "# arrcast = np.array(['a','2','b'], dtype='i')\n",
    "# print(arrcast)\n",
    "\n",
    "arrtoconvert = np.array([1.1,2.2,3.4,5.6]) #float to int\n",
    "newarr = arrtoconvert.astype('i')\n",
    "print(newarr)\n",
    "\n",
    "arrtoconvert = np.array([1,2,3,4,5,6])\n",
    "newarr = arrtoconvert.astype('f')\n",
    "print(newarr)\n",
    "\n",
    "arrtoconvert = np.array([-1,0,1])\n",
    "newarr = arrtoconvert.astype('bool')\n",
    "print(newarr)\n",
    "\n",
    "\n"
   ]
  },
  {
   "cell_type": "markdown",
   "id": "5b6b5bf9",
   "metadata": {},
   "source": [
    "Zeros and Ones"
   ]
  },
  {
   "cell_type": "code",
   "execution_count": 248,
   "id": "ebf6a416",
   "metadata": {},
   "outputs": [
    {
     "name": "stdout",
     "output_type": "stream",
     "text": [
      "[[0. 0. 0.]\n",
      " [0. 0. 0.]]\n",
      "[[1. 1. 1.]\n",
      " [1. 1. 1.]]\n"
     ]
    }
   ],
   "source": [
    "a = np.zeros((2,3))\n",
    "print(a)\n",
    "b = np.ones((2,3))\n",
    "print(b)"
   ]
  },
  {
   "cell_type": "markdown",
   "id": "7355210a",
   "metadata": {},
   "source": [
    "NumPy Arrange Function "
   ]
  },
  {
   "cell_type": "code",
   "execution_count": 253,
   "id": "13cc03e9",
   "metadata": {},
   "outputs": [
    {
     "data": {
      "text/plain": [
       "array([10, 12, 14, 16, 18, 20, 22, 24, 26, 28, 30, 32, 34, 36, 38, 40, 42,\n",
       "       44, 46, 48])"
      ]
     },
     "execution_count": 253,
     "metadata": {},
     "output_type": "execute_result"
    }
   ],
   "source": [
    "#  The fist argument is thestarting bound and the second argument is the ending bound, \n",
    "# and the third argument is the difference between\n",
    "# each consecutive numbers\n",
    "\n",
    "# Let's create an array of every even number from ten (inclusive)  to fifty (exclusive)\n",
    "a = np.arange (10,50,2)\n",
    "a"
   ]
  },
  {
   "cell_type": "markdown",
   "id": "11e2a5db",
   "metadata": {},
   "source": [
    "Linespace"
   ]
  },
  {
   "cell_type": "code",
   "execution_count": null,
   "id": "8182babc",
   "metadata": {},
   "outputs": [
    {
     "data": {
      "text/plain": [
       "array([2.        , 2.07142857, 2.14285714, 2.21428571, 2.28571429,\n",
       "       2.35714286, 2.42857143, 2.5       , 2.57142857, 2.64285714,\n",
       "       2.71428571, 2.78571429, 2.85714286, 2.92857143, 3.        ])"
      ]
     },
     "execution_count": 254,
     "metadata": {},
     "output_type": "execute_result"
    }
   ],
   "source": [
    "# It means to create an array of range 2 to 3 and 15 doesn't means the differ b/w 2 and 3 \n",
    "# but the total elements in the array \n",
    "p = np.linspace(2,3,15)\n",
    "p"
   ]
  },
  {
   "cell_type": "markdown",
   "id": "5cd6304a",
   "metadata": {},
   "source": [
    "Some Aggregate functions"
   ]
  },
  {
   "cell_type": "code",
   "execution_count": 260,
   "id": "38df637a",
   "metadata": {},
   "outputs": [
    {
     "name": "stdout",
     "output_type": "stream",
     "text": [
      "22\n",
      "58\n",
      "7.25\n",
      "1\n"
     ]
    }
   ],
   "source": [
    "arr1 = np.array([6,2,4,6,8,9,1,22])\n",
    "print(arr1.max())\n",
    "print(arr1.sum())\n",
    "print(arr1.mean())\n",
    "print(arr1.min())"
   ]
  },
  {
   "cell_type": "markdown",
   "id": "1191d4b0",
   "metadata": {},
   "source": [
    "Routines Matrix:"
   ]
  },
  {
   "cell_type": "code",
   "execution_count": 17,
   "id": "5e026cd4",
   "metadata": {},
   "outputs": [
    {
     "name": "stdout",
     "output_type": "stream",
     "text": [
      "[[1. 0. 0.]\n",
      " [0. 1. 0.]\n",
      " [0. 0. 1.]]\n",
      "[[1 0 0]\n",
      " [0 2 0]\n",
      " [0 0 3]]\n",
      "[[0 0 0]\n",
      " [0 0 0]\n",
      " [0 0 0]]\n",
      "[[1 1 1]\n",
      " [1 1 1]\n",
      " [1 1 1]]\n"
     ]
    }
   ],
   "source": [
    "#eye\n",
    "identity_mat = np.eye(3)\n",
    "print(identity_mat)\n",
    "\n",
    "#diagnal matrix\n",
    "diagnal_mat = np.diag([1,2,3])\n",
    "print(diagnal_mat)\n",
    "\n",
    "#zero-like\n",
    "zerolike = np.zeros_like(diagnal_mat)\n",
    "print(zerolike)\n",
    "\n",
    "#one-like\n",
    "onelike = np.ones_like(diagnal_mat)\n",
    "print(onelike)"
   ]
  },
  {
   "cell_type": "markdown",
   "id": "9a4d826d",
   "metadata": {},
   "source": [
    "Copy and View Operation in Array "
   ]
  },
  {
   "cell_type": "code",
   "execution_count": null,
   "id": "3e5fadf1",
   "metadata": {},
   "outputs": [
    {
     "name": "stdout",
     "output_type": "stream",
     "text": [
      "[1 2 3 4 5]\n",
      "[1 2 3 4 6]\n",
      "---------------------\n",
      "[1 2 3 4 6]\n",
      "[1 2 3 4 6]\n",
      "None\n",
      "[1 2 3 4 6]\n"
     ]
    }
   ],
   "source": [
    "arrforcopy = np.array ([1,2,3,4,5])\n",
    "x1 = arrforcopy.copy() #doesn't have any arguments\n",
    "\n",
    "x1 [4] = 6\n",
    "print(arrforcopy)\n",
    "print(x1)\n",
    "\n",
    "'''So the main difference b/w copy and view is that copy is a new array with \n",
    "same data, and view is just a view of the original array. \n",
    "If we do any operation on copy, it doesn't changes the original array, but on \n",
    "the other hand, if we do the changes on view, then it changes the original array \n",
    "'''\n",
    "print(\"---------------------\")\n",
    "arrforview = np.array ([1,2,3,4,5])\n",
    "x2 = arrforview.view() #doesn't have any arguments\n",
    "\n",
    "x2 [4] = 6\n",
    "print(x2)\n",
    "print(arrforview)\n",
    "\n",
    "# Checks if an array own its data\n",
    "''' The base attribute returns none if an array owns its data\n",
    "'''\n",
    "print(x1.base)\n",
    "print(x2.base)"
   ]
  },
  {
   "cell_type": "markdown",
   "id": "fc0ecd6c",
   "metadata": {},
   "source": [
    "Array Operations "
   ]
  },
  {
   "cell_type": "code",
   "execution_count": 256,
   "id": "33e85d86",
   "metadata": {},
   "outputs": [
    {
     "name": "stdout",
     "output_type": "stream",
     "text": [
      "[[2 0]\n",
      " [0 4]]\n",
      "[[5 4]\n",
      " [3 4]]\n"
     ]
    }
   ],
   "source": [
    "# WE can do many arithematic oprations on the arrays, but here is the most important operation \n",
    "A = np.array([[1,1] ,[0,1]])\n",
    "B = np.array([[2,0], [3,4]])\n",
    "print(A*B)\n",
    "# Note: * always do the element-wise product of a matrix\n",
    "# if we want a matrix multiplication method (rows to columns) then use  @\n",
    "print(A@B)\n"
   ]
  },
  {
   "cell_type": "markdown",
   "id": "9a698332",
   "metadata": {},
   "source": [
    "Shape of an Array "
   ]
  },
  {
   "cell_type": "code",
   "execution_count": 170,
   "id": "60f2c2b5",
   "metadata": {},
   "outputs": [
    {
     "name": "stdout",
     "output_type": "stream",
     "text": [
      "(5,)\n",
      "(2, 4)\n",
      "[[[[[1 2 3 4 5]]]]]\n",
      "(1, 1, 1, 1, 5)\n",
      "\n",
      "Reshaping:\n",
      "[1 2 3 4 5 6]\n",
      "[[1 2 3]\n",
      " [4 5 6]]\n",
      "\n",
      "[ 1  2  3  4  5  6  7  8  9 10 11 12]\n",
      "[[[ 1  2  3]\n",
      "  [ 4  5  6]]\n",
      "\n",
      " [[ 7  8  9]\n",
      "  [10 11 12]]]\n",
      "[ 1  2  3  4  5  6  7  8  9 10 11 12]\n"
     ]
    }
   ],
   "source": [
    "arr = np.array ([1,2,3,4,5])\n",
    "print(arr.shape)   #returns a tuples\n",
    "\n",
    "arr = np.array ([[2,3,4,5],[6,7,8,9]])\n",
    "print(arr.shape)   #(2,4) 2 is the number of rows and 4 is the number of columns \n",
    "\n",
    "arr=  np.array([1,2,3,4,5], ndmin=5)\n",
    "print(arr)\n",
    "print(arr.shape)\n",
    "\n",
    "print()\n",
    "# Reshape an array \n",
    "print(\"Reshaping:\")\n",
    "arr1 = np.array ([1,2,3,4,5,6])\n",
    "print(arr1)\n",
    "x = arr1.reshape(2,3) #1D to 2D \n",
    "print(x)\n",
    "\n",
    "print()\n",
    "\n",
    "arr3= np.array ([1,2,3,4,5,6,7,8,9,10,11,12])\n",
    "print(arr3)\n",
    "x3 = arr3.reshape(2,2,3) #1D to 3D \n",
    "# checking if the reshaped array is copy or view\n",
    "print(x3) #returns the array, so it is view\n",
    "\n",
    "# then convert this 3D back to 1D \n",
    "# or \n",
    "# xone = arr3.reshape(12,) \n",
    "xone = arr3.reshape(-1) \n",
    "print(xone)\n",
    "\n"
   ]
  },
  {
   "cell_type": "markdown",
   "id": "bab3dd97",
   "metadata": {},
   "source": [
    "Iterating Arrays "
   ]
  },
  {
   "cell_type": "code",
   "execution_count": null,
   "id": "8f1d0862",
   "metadata": {},
   "outputs": [
    {
     "name": "stdout",
     "output_type": "stream",
     "text": [
      "1\n",
      "2\n",
      "3\n",
      "4\n",
      "5\n",
      "6\n",
      "[1 2 3]\n",
      "[4 5 6]\n",
      "\n",
      "1\n",
      "2\n",
      "3\n",
      "4\n",
      "5\n",
      "6\n",
      "\n",
      "1\n",
      "2\n",
      "3\n",
      "4\n",
      "5\n",
      "6\n"
     ]
    }
   ],
   "source": [
    "arr1  = np.array ([1,2,3,4,5,6])\n",
    "# over 1D array \n",
    "for x in arr1:\n",
    "    print(x)\n",
    "\n",
    "arr2 = np.array([[1,2,3],[4,5,6]])\n",
    "for x in arr2:\n",
    "    print(x) #shows row by row\n",
    "print()\n",
    "for x in arr2:\n",
    "    for y in x: #show element by element \n",
    "        print(y)\n",
    "print()\n",
    "arr3 = np.array ([[[1,2,4],[5,6,7],[8,9,10]]])\n",
    "for x in arr3:\n",
    "    for y in x:\n",
    "        for z in y:\n",
    "            print(z)\n",
    "# np.nditr is a function used to iterate over all dimensions in an array. \n",
    "for x in np.nditer(arr2):\n",
    "    print(x)\n"
   ]
  },
  {
   "cell_type": "code",
   "execution_count": null,
   "id": "0f777592",
   "metadata": {},
   "outputs": [
    {
     "name": "stdout",
     "output_type": "stream",
     "text": [
      "np.bytes_(b'1')\n",
      "np.bytes_(b'2')\n",
      "np.bytes_(b'3')\n",
      "np.bytes_(b'4')\n",
      "np.bytes_(b'5')\n",
      "np.bytes_(b'6')\n",
      "(0,) on 1\n",
      "(1,) on 2\n",
      "(2,) on 3\n"
     ]
    }
   ],
   "source": [
    "#iterating using nditer or changes the datatypes during exeution of iteration.\n",
    "arr = np.array ([[1,2,3],[4,5,6]])\n",
    "for x in np.nditer(arr, flags=['buffered'] , op_dtypes=['S']):\n",
    "    print(x)\n",
    "\n",
    "'''\n",
    "Where does buffered come in?\n",
    "You can’t just change the candy in the jar directly (that’s the array’s fixed dtype).\n",
    "So, the factory makes a temporary basket 🧺 where each candy is taken out, wrapped in\n",
    " foil, and then handed to your friend.\n",
    "This temporary basket = buffered flag.\n",
    "'''\n",
    "# Slicing in iteration \n",
    "\n",
    "\n",
    "\n",
    "\n",
    "\n",
    "\n",
    "arr = np.array ([1,2,3])\n",
    "# When we want both sequence number and the value\n",
    "for idx , x in np.ndenumerate(arr):\n",
    "    print(f\"{idx} on {x}\")\n",
    "\n",
    "\n",
    "\n"
   ]
  },
  {
   "cell_type": "markdown",
   "id": "acc5af59",
   "metadata": {},
   "source": [
    "Joining NumPy Arrays"
   ]
  },
  {
   "cell_type": "code",
   "execution_count": null,
   "id": "078777ca",
   "metadata": {},
   "outputs": [
    {
     "name": "stdout",
     "output_type": "stream",
     "text": [
      "[ 1  2  3  4  5  6  7  8  9 10]\n",
      "\n",
      "[[ 1  2  3]\n",
      " [ 4  5  6]\n",
      " [ 7  8  9]\n",
      " [10 11 12]]\n",
      "\n",
      "[[[ 1  2  3 13 14 15]\n",
      "  [ 4  5  6 16 17 18]]\n",
      "\n",
      " [[ 7  8  9 19 20 21]\n",
      "  [10 11 12 22 23 24]]]\n",
      "\n",
      "[[ 1  6]\n",
      " [ 2  7]\n",
      " [ 3  8]\n",
      " [ 4  9]\n",
      " [ 5 10]]\n",
      "\n",
      "[1 2 3 4 5 6]\n",
      "\n",
      "[[1 2 3]\n",
      " [4 5 6]]\n",
      "\n",
      "[[[1 4]\n",
      "  [2 5]\n",
      "  [3 6]]]\n"
     ]
    }
   ],
   "source": [
    "# Join 1D array \n",
    "arr1 = np.array ([1,2,3,4,5])\n",
    "arr2 = np.array ([6,7,8,9,10])\n",
    "newarray = np.concatenate((arr1 ,arr2))\n",
    "# axis function doesn't work in 1D array because there is nothing to join \n",
    "print(newarray)\n",
    "print()\n",
    "# join 2D array \n",
    "arr3 = np.array([[1,2,3],[4,5,6]])\n",
    "arr4 = np.array([[7,8,9],[10,11,12]])\n",
    "newarray = np.concatenate((arr3,arr4),axis=0) \n",
    "print(newarray)\n",
    "# So in this axis means, if 0 then add more rows. If 1 then add more columns.\n",
    "print()\n",
    "# joining 3D array \n",
    "arr3f = np.array([[[1,2,3],[4,5,6]],[[7,8,9],[10,11,12]]])\n",
    "arr4f = np.array([[[13, 14, 15], [16, 17, 18]],[[19, 20, 21], [22, 23, 24]]])\n",
    "newarr = np.concatenate((arr3f,arr4f), axis=2)\n",
    "print(newarr)\n",
    "\n",
    "print()\n",
    "\n",
    "# Stack \n",
    "'''Stack is used to add axis in 1D array. concatenation doesn't accepts any axis'''\n",
    "arr1 = np.array ([1,2,3,4,5])\n",
    "arr2 = np.array ([6,7,8,9,10])\n",
    "newarray = np.stack((arr1 ,arr2), axis=1) #if 0 then, arrays become rows, if 1 then, arrays become columns\n",
    "print(newarray)\n",
    "print()\n",
    "\n",
    "# Stacking along Rows\n",
    "arr1 = np.array([1,2,3])\n",
    "arr2 = np.array([4,5,6])\n",
    "new = np.hstack((arr1,arr2))\n",
    "print(new)\n",
    "print()\n",
    "\n",
    "# Stacking along columns\n",
    "arr1 = np.array([1,2,3])\n",
    "arr2 = np.array([4,5,6])\n",
    "new = np.vstack((arr1,arr2))\n",
    "print(new)\n",
    "print()\n",
    "\n",
    "# Stacking along height (depth)\n",
    "arr1 = np.array([1,2,3])\n",
    "arr2 = np.array([4,5,6])\n",
    "new = np.dstack((arr1,arr2))\n",
    "print(new)"
   ]
  },
  {
   "cell_type": "markdown",
   "id": "1c234cf7",
   "metadata": {},
   "source": [
    "Splitting in Arrays"
   ]
  },
  {
   "cell_type": "code",
   "execution_count": null,
   "id": "f4363fd0",
   "metadata": {},
   "outputs": [
    {
     "name": "stdout",
     "output_type": "stream",
     "text": [
      "[array([1, 2, 3, 4]), array([5, 6, 7])]\n",
      "[1 2 3 4]\n",
      "[5 6 7]\n",
      "[array([[1, 2, 3]]), array([[4, 5, 6]]), array([], shape=(0, 3), dtype=int64)]\n",
      "[array([[ 1],\n",
      "       [ 4],\n",
      "       [ 7],\n",
      "       [10],\n",
      "       [13],\n",
      "       [16]]), array([[ 2],\n",
      "       [ 5],\n",
      "       [ 8],\n",
      "       [11],\n",
      "       [14],\n",
      "       [17]]), array([[ 3],\n",
      "       [ 6],\n",
      "       [ 9],\n",
      "       [12],\n",
      "       [15],\n",
      "       [18]])]\n",
      "\n",
      "[array([[1, 2, 3]]), array([[4, 5, 6]])]\n"
     ]
    }
   ],
   "source": [
    "''' There are 2 functions for splitting an array. \n",
    "1. split() (divide the array in equal parts)\n",
    "2. array_split() (arrys equality doesn't matter)\n",
    "'''\n",
    "arr = np.array ([1,2,3,4,5,6,7])\n",
    "newarr= np.array_split(arr, 2) #2 means divide into 2 parts(no matter these parts are equal or not)\n",
    "print(newarr)\n",
    "# we can also access the element from the splitted array \n",
    "print(newarr[0])\n",
    "print(newarr[1])\n",
    "\n",
    "# the same function also use for 2D arrays and 3D array \n",
    "arr = np.array([[1,2,3],[4,5,6]])\n",
    "newarr = np.array_split(arr,3)\n",
    "print(newarr)\n",
    "\n",
    "arr = np.array([[1, 2, 3], [4, 5, 6], [7, 8, 9], [10, 11, 12], [13, 14, 15], [16, 17, 18]])\n",
    "newarr = np.array_split(arr,3,axis=1) #along columns\n",
    "print(newarr)\n",
    "print()\n",
    "\n",
    "# another way to do along columns \n",
    "arr = np.array([[1,2,3],[4,5,6]])\n",
    "neww = np.vsplit(arr , 2)\n",
    "print(neww)\n",
    "# same work for hsplit"
   ]
  },
  {
   "cell_type": "markdown",
   "id": "8452dd10",
   "metadata": {},
   "source": [
    "Searching in NumPy "
   ]
  },
  {
   "cell_type": "code",
   "execution_count": null,
   "id": "39100707",
   "metadata": {},
   "outputs": [
    {
     "name": "stdout",
     "output_type": "stream",
     "text": [
      "(array([3]),)\n",
      "(array([1, 3, 5, 7]),)\n",
      "(array([0, 2, 4, 6, 8]),)\n",
      "1\n",
      "5\n",
      "[1 2 3]\n"
     ]
    }
   ],
   "source": [
    "arr = np.array([1,2,3,4,5,6,7,8,9])\n",
    "n = np.where(arr == 4)\n",
    "print(n) #returns the index number in a tuples in an array \n",
    "\n",
    "even = np.where(arr%2==0)\n",
    "print(even)  #returns the index in a tuple where the even number is present \n",
    "\n",
    "odd = np.where(arr%2==1)\n",
    "print(odd)\n",
    "\n",
    "sorted_array = np.array([2,5,8,9,16,20])\n",
    "index = np.searchsorted(sorted_array,4)\n",
    "print(index)   \n",
    "'''Search sorted function assumes that our array is already sorted.\n",
    "and it simply insert the number we given to this and returns the index number in which the \n",
    "number is inserted\n",
    " '''\n",
    "s = np.array([2,5,8,9,16,19,20])\n",
    "index = np.searchsorted(s,19, side='left')\n",
    "print(index)\n",
    "\n",
    "# Multiple values \n",
    "arr = np.array([1, 3, 5, 7])\n",
    "x = np.searchsorted(arr, [2, 4, 6])\n",
    "print(x)\n",
    "\n"
   ]
  },
  {
   "cell_type": "markdown",
   "id": "5e6967e0",
   "metadata": {},
   "source": [
    "Sorting in Arrays "
   ]
  },
  {
   "cell_type": "code",
   "execution_count": 238,
   "id": "195cf3bb",
   "metadata": {},
   "outputs": [
    {
     "name": "stdout",
     "output_type": "stream",
     "text": [
      "[1 2 2 3 4 4 6 6 7 9]\n",
      "[[2 4 6]\n",
      " [2 5 9]]\n",
      "[False False  True]\n"
     ]
    }
   ],
   "source": [
    "arr = np.array([3,7,4,6,2,1,6,4,2,9])\n",
    "newww = np.sort(arr)\n",
    "print(newww)\n",
    "\n",
    "arr = np.array([[6,4,2],[9,2,5]])\n",
    "new = np.sort(arr)\n",
    "print(new)\n",
    "\n",
    "arr = np.array([False, True, False])\n",
    "newww = np.sort(arr)\n",
    "print(newww)\n"
   ]
  },
  {
   "cell_type": "markdown",
   "id": "5854f5d1",
   "metadata": {},
   "source": [
    "Filtering in NumPy "
   ]
  },
  {
   "cell_type": "code",
   "execution_count": 245,
   "id": "99be4093",
   "metadata": {},
   "outputs": [
    {
     "name": "stdout",
     "output_type": "stream",
     "text": [
      "[41 43 44]\n",
      "[False, False, True, True]\n",
      "[43 44]\n",
      "[ 2  4  6  8 10 12 14 16]\n",
      "[ 2  4  6  8 10 12 14 16]\n"
     ]
    }
   ],
   "source": [
    "arr = np.array([41,42,43,44])\n",
    "b = [True, False ,True, True]\n",
    "newarr = arr[b]\n",
    "print(newarr)\n",
    "\n",
    "# making of filter Array \n",
    "# make an empty list\n",
    "filter_arr =[]\n",
    "for x in arr:\n",
    "    if x>42:\n",
    "        filter_arr.append(True)\n",
    "    else:\n",
    "        filter_arr.append(False)\n",
    "\n",
    "newfilter = arr[filter_arr]\n",
    "print(filter_arr)\n",
    "print(newfilter)\n",
    "\n",
    "# More on Filtering of an array \n",
    "# lets do one more example:\n",
    "arr = np.array([1,2,3,4,5,6,7,8,9,10,11,12,13,14,15,16])\n",
    "filter_even = []\n",
    "for x in arr:\n",
    "    if x%2==0:\n",
    "        filter_even.append(True)\n",
    "    else:\n",
    "        filter_even.append(False)\n",
    "\n",
    "new =arr[filter_even]\n",
    "print(new)\n",
    "\n",
    "# create filter directly from the array (like Short hand if_else)\n",
    "filterd = arr%2==0\n",
    "n=arr[filterd]\n",
    "print(n)\n"
   ]
  },
  {
   "cell_type": "markdown",
   "id": "0d2419b8",
   "metadata": {},
   "source": [
    "Working with Random library in NumPy"
   ]
  },
  {
   "cell_type": "code",
   "execution_count": 5,
   "id": "2041a16c",
   "metadata": {},
   "outputs": [
    {
     "name": "stdout",
     "output_type": "stream",
     "text": [
      "[0.80636639 0.18096764 0.56776149 0.11920034]\n",
      "[[0.13286023 0.17609362 0.78329332]\n",
      " [0.15606337 0.5577349  0.41443682]]\n",
      "6\n",
      "[[8 7 7 3 8]\n",
      " [4 4 3 3 3]\n",
      " [5 3 4 4 3]]\n",
      "[7 7 5 5 7 3 7 5 5 5 5 7 7 5 7 7 5 5 7 5 5 7 7 7 7 5 7 5 7 5 7 7 7 7 3 7 7\n",
      " 7 7 5 7 5 5 7 7 7 7 5 7 3 7 5 3 5 7 7 5 7 7 7 3 7 7 3 5 7 7 5 7 5 7 3 7 7\n",
      " 7 7 7 7 3 5 5 7 5 5 7 7 7 7 7 7 7 7 7 7 3 7 7 5 7 7]\n",
      "[[7 5 7]\n",
      " [7 5 5]]\n"
     ]
    }
   ],
   "source": [
    "from numpy import random\n",
    "arr = random.rand(4)\n",
    "print(arr) #return a 4 random float numbers\n",
    "\n",
    "x = random.rand(2,3)\n",
    "print(x) #return a 2D array \n",
    "\n",
    "# generate random number from the array \n",
    "x =random.choice([2,3,4,5,6])\n",
    "print(x)\n",
    "\n",
    "x = random.choice([3,4,5,6,7,8], size=(3,5))\n",
    "print(x) #size is the size of an array with 3 rows and 5 columns\n",
    "\n",
    "# Random data distribution \n",
    "x = random.choice([3,5,7,9], p=[0.1,0.3,0.6,0.0], size=(100))\n",
    "print(x) #SUM of all probabilities must be equals to one\n",
    "\n",
    "x = random.choice([3,5,7,9], p=[0.1,0.3,0.6,0.0], size=(2,3))\n",
    "print(x) #RETURNS a 2D array\n",
    "\n",
    "\n"
   ]
  },
  {
   "cell_type": "markdown",
   "id": "d9285cd3",
   "metadata": {},
   "source": [
    "Permutation "
   ]
  },
  {
   "cell_type": "code",
   "execution_count": 6,
   "id": "8a5d3002",
   "metadata": {},
   "outputs": [
    {
     "name": "stdout",
     "output_type": "stream",
     "text": [
      "[5 4 3 7 6 1 2]\n",
      "[4 1 2 3 6 5]\n",
      "[1 2 3 4 5 6]\n"
     ]
    }
   ],
   "source": [
    "'''So there are 2 functions of random permutation. \n",
    "1. Shuffle (to make changes in the orignal array )\n",
    "2. Permuation (to make changes in the new array and leaves the original array un-changed)\n",
    "'''\n",
    "arr = np.array([1,2,3,4,5,6,7])\n",
    "random.shuffle(arr)\n",
    "print(arr)\n",
    "\n",
    "arr = np.array([1,2,3,4,5,6])\n",
    "x= random.permutation(arr)\n",
    "print(x)    #the new array forms\n",
    "print(arr) #the original array is as it is. \n",
    "\n"
   ]
  },
  {
   "cell_type": "markdown",
   "id": "3267e8ee",
   "metadata": {},
   "source": [
    "fromiter functions:"
   ]
  },
  {
   "cell_type": "code",
   "execution_count": 11,
   "id": "96eb492d",
   "metadata": {},
   "outputs": [
    {
     "name": "stdout",
     "output_type": "stream",
     "text": [
      "['p' 'y' 't' 'h' 'o' 'n']\n",
      "[ 0.  1.  4.  9. 16. 25.]\n"
     ]
    }
   ],
   "source": [
    "a = \"python\"\n",
    "x = np.fromiter(a, dtype='U2')\n",
    "print(x)\n",
    "\n",
    "iterable =( x * x for x in range(6))\n",
    "func = np.fromiter(iterable,float)\n",
    "print(func)"
   ]
  },
  {
   "cell_type": "markdown",
   "id": "d84adfac",
   "metadata": {},
   "source": [
    "Empty Functions:"
   ]
  },
  {
   "cell_type": "code",
   "execution_count": 12,
   "id": "0a27b101",
   "metadata": {},
   "outputs": [
    {
     "name": "stdout",
     "output_type": "stream",
     "text": [
      "Empty integer array:\n",
      " [[                  0 4607182418800017408]\n",
      " [4616189618054758400 4621256167635550208]\n",
      " [4625196817309499392 4627730092099895296]]\n"
     ]
    }
   ],
   "source": [
    "# Create an empty array of shape (3, 2) with integer data type\n",
    "empty_ = np.empty((3, 2), dtype=int)\n",
    "print(\"Empty integer array:\\n\", empty_)\n"
   ]
  }
 ],
 "metadata": {
  "kernelspec": {
   "display_name": "venv",
   "language": "python",
   "name": "python3"
  },
  "language_info": {
   "codemirror_mode": {
    "name": "ipython",
    "version": 3
   },
   "file_extension": ".py",
   "mimetype": "text/x-python",
   "name": "python",
   "nbconvert_exporter": "python",
   "pygments_lexer": "ipython3",
   "version": "3.13.6"
  }
 },
 "nbformat": 4,
 "nbformat_minor": 5
}
